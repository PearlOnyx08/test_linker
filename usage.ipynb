{
 "cells": [
  {
   "cell_type": "markdown",
   "id": "5cf583aa",
   "metadata": {},
   "source": [
    "### Test linker"
   ]
  },
  {
   "cell_type": "code",
   "execution_count": 8,
   "id": "f02e01c5",
   "metadata": {},
   "outputs": [],
   "source": [
    "import spacy_ann\n",
    "\n",
    "import warnings\n",
    "warnings.filterwarnings(\"ignore\")"
   ]
  },
  {
   "cell_type": "code",
   "execution_count": 3,
   "id": "dc3cca72",
   "metadata": {},
   "outputs": [
    {
     "name": "stdout",
     "output_type": "stream",
     "text": [
      "2021-11-07 19:23:14.247738: W tensorflow/stream_executor/platform/default/dso_loader.cc:64] Could not load dynamic library 'libcudart.so.11.0'; dlerror: libcudart.so.11.0: cannot open shared object file: No such file or directory\n",
      "2021-11-07 19:23:14.247763: I tensorflow/stream_executor/cuda/cudart_stub.cc:29] Ignore above cudart dlerror if you do not have a GPU set up on your machine.\n",
      "Your CPU supports instructions that this binary was not compiled to use: SSE3 SSE4.1 SSE4.2 AVX AVX2\n",
      "For maximum performance, you can install NMSLIB from sources \n",
      "pip install --no-binary :all: nmslib\n",
      "\u001b[1m\n",
      "================================= Load Model =================================\u001b[0m\n",
      "⠹ Loading model en_core_web_md\u001b[38;5;2m✔ Done.\u001b[0m\n",
      "\u001b[2K\u001b[1m\n",
      "============================ Apply EntityEncoder ============================\u001b[0m\n",
      "⠙ Applying EntityEncoder to descriptions\u001b[38;5;2m✔ Finished, embeddings created\u001b[0m\n",
      "\u001b[2K\u001b[38;5;2m✔ Done adding entities and aliases to kb\u001b[0m\n",
      "\u001b[2K\u001b[1m\n",
      "============================== Create ANN Index ==============================\u001b[0m\n",
      "\n",
      "0%   10   20   30   40   50   60   70   80   90   100%\n",
      "|----|----|----|----|----|----|----|----|----|----|\n",
      "***************************************************\n"
     ]
    }
   ],
   "source": [
    "!spacy_ann create_index en_core_web_md /home/spenser/ann/kb_dir /home/spenser/ann/models/"
   ]
  },
  {
   "cell_type": "code",
   "execution_count": 4,
   "id": "f59f62e5",
   "metadata": {},
   "outputs": [
    {
     "data": {
      "text/plain": [
       "<spacy.pipeline.entityruler.EntityRuler at 0x7f5d5d831b80>"
      ]
     },
     "execution_count": 4,
     "metadata": {},
     "output_type": "execute_result"
    }
   ],
   "source": [
    "import spacy\n",
    "from spacy_ann import AnnLinker\n",
    "from spacy.pipeline import EntityRuler\n",
    "\n",
    "# Load the spaCy model from the output_dir you used from the create_index command\n",
    "model_dir = '/home/spenser/ann/models/ann_linker'\n",
    "nlp = spacy.load(model_dir)\n",
    "\n",
    "\n",
    "patterns = [{\"label\": \"SKILL\", \"pattern\": alias} for alias in nlp.get_pipe('ann_linker').kb.get_alias_strings()]\n",
    "\n",
    "def get_ent_ruler(nlp, name):\n",
    "    ruler = EntityRuler(nlp)\n",
    "    ruler.add_patterns(patterns)\n",
    "    return ruler\n",
    "\n",
    "from spacy.language import Language\n",
    "Language.factory(\"ent_ruler\", func=get_ent_ruler)\n",
    "nlp.add_pipe(\"ent_ruler\", last=True)"
   ]
  },
  {
   "cell_type": "code",
   "execution_count": 9,
   "id": "a3418cc8",
   "metadata": {},
   "outputs": [
    {
     "data": {
      "text/plain": [
       "[('NLP', 'ORG', 'a3'), ('Machine', 'ORG', '')]"
      ]
     },
     "execution_count": 9,
     "metadata": {},
     "output_type": "execute_result"
    }
   ],
   "source": [
    "doc = nlp(\"NLP is a highly researched subset of Machine learning.\")\n",
    "[(e.text, e.label_, e.kb_id_) for e in doc.ents]"
   ]
  },
  {
   "cell_type": "code",
   "execution_count": null,
   "id": "463dc201",
   "metadata": {},
   "outputs": [],
   "source": []
  }
 ],
 "metadata": {
  "kernelspec": {
   "display_name": "prodigy",
   "language": "python",
   "name": "prodigy"
  },
  "language_info": {
   "codemirror_mode": {
    "name": "ipython",
    "version": 3
   },
   "file_extension": ".py",
   "mimetype": "text/x-python",
   "name": "python",
   "nbconvert_exporter": "python",
   "pygments_lexer": "ipython3",
   "version": "3.9.7"
  }
 },
 "nbformat": 4,
 "nbformat_minor": 5
}
